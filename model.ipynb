{
 "cells": [
  {
   "cell_type": "markdown",
   "id": "ef15466b-003f-4952-a194-9f8b75cd074a",
   "metadata": {},
   "source": [
    "# Deep Learning: Speech Emotion Recognition Project"
   ]
  },
  {
   "cell_type": "markdown",
   "id": "69141b84-268b-479b-aa83-7fcd125af8c6",
   "metadata": {},
   "source": [
    "## Importing Necessary Libraries"
   ]
  },
  {
   "cell_type": "code",
   "execution_count": 43,
   "id": "d68a0a18-f91c-49dc-b6ae-41e4f7173ec6",
   "metadata": {},
   "outputs": [],
   "source": [
    "# Importing necessary libraries\n",
    "import os  # Operating system functionalities\n",
    "import librosa  # Audio processing library\n",
    "import wave  # Module for reading and writing WAV files\n",
    "import numpy as np  # Numerical operations library\n",
    "import pandas as pd  # Data manipulation library\n",
    "import matplotlib.pyplot as plt  # Plotting library\n",
    "\n",
    "# Importing components for Dividing into the Training Set and the Testing Set\n",
    "from sklearn.model_selection import train_test_split  # Splitting the dataset for training and testing\n",
    "\n",
    "# Importing components for Long Short-Term Memory (LSTM) Classifier\n",
    "import keras  # High-level neural networks API\n",
    "from tensorflow.keras.utils import to_categorical  # Utility for one-hot encoding\n",
    "from keras.models import Sequential  # Sequential model for stacking layers\n",
    "from keras.layers import *  # Different layers for building neural networks\n",
    "#from keras.optimizers import rmsprop  # Optimizer for training the model\n",
    "from tensorflow.keras.optimizers import RMSprop\n"
   ]
  },
  {
   "cell_type": "markdown",
   "id": "c7223fd3-6c56-40c1-bbd1-5bc313263615",
   "metadata": {},
   "source": [
    "As I start my Real-Time Speech Emotion Recognition project, I begin by importing the necessary libraries and components for building and evaluating machine learning models.\n",
    "\n",
    "For the Deep Learning part of my project, I bring in components related to the Long Short-Term Memory (LSTM) Classifier using Keras.\n",
    "\n",
    "These imported libraries and components form the foundation for my Real-Time Speech Emotion Recognition project, enabling me to handle audio data, split datasets, build LSTM models, and assess their performance."
   ]
  },
  {
   "cell_type": "markdown",
   "id": "96fd3c96-5fdf-4604-aef1-ec9fb0969d6e",
   "metadata": {},
   "source": [
    "## Ravdess Emotional Speech Audio"
   ]
  },
  {
   "cell_type": "markdown",
   "id": "e7002d6f-2e98-4308-bbf6-f99ca388ca43",
   "metadata": {},
   "source": [
    "As I embark on developing my Real-Time Speech Emotion Recognition project, I've opted to utilize the \"ravdess-emotional-speech-audio\" dataset due to its richness and suitability for training emotion recognition models.\n",
    "\n",
    "```python\n",
    "# Ryerson Audio-Visual Database of Emotional Speech and Song (ravdess)\n",
    "```\n",
    "\n",
    "The \"ravdess-emotional-speech-audio\" dataset is a resource I've carefully chosen for its comprehensive coverage of emotional speech. It is a creation of Ryerson University and boasts a total of 1440 audio files, each lasting approximately 3-5 seconds.\n",
    "\n",
    "```python\n",
    "# Diverse Emotional States\n",
    "```\n",
    "\n",
    "One of the strengths of this dataset is its diverse set of emotional states, including neutral, calm, happy, sad, angry, fearful, disgust, and surprised. Professional actors were involved in the creation, and they followed scripted scenarios to express these emotions, ensuring a controlled and standardized representation.\n",
    "\n",
    "```python\n",
    "# Actor Diversity\n",
    "```\n",
    "\n",
    "The dataset encompasses 24 actors, split evenly between male and female, contributing to the richness of vocal characteristics, accents, and expressive styles. This diversity is instrumental in building a robust Speech Emotion Recognition (SER) model capable of handling variations encountered in real-world scenarios.\n",
    "\n",
    "```python\n",
    "# Audio Characteristics\n",
    "```\n",
    "\n",
    "The audio recordings are sampled at a rate of 48 kHz and saved in the WAV file format, maintaining a high-quality standard suitable for training deep neural networks. Additionally, the dataset provides a corresponding CSV file containing metadata such as emotion labels, actor information, file paths, and file names. This metadata is invaluable for data preprocessing and model evaluation.\n",
    "\n",
    "```python\n",
    "# Focus on Speech Segments\n",
    "```\n",
    "\n",
    "Given my project's emphasis on real-time speech emotion recognition, I've chosen to concentrate specifically on the speech segments within the dataset. This focused approach aligns more closely with the application domain, making it particularly relevant for applications like virtual assistants, customer service, and mental health support.\n",
    "\n",
    "```python\n",
    "# Conclusion\n",
    "```\n",
    "\n",
    "In summary, the \"ravdess-emotional-speech-audio\" dataset stands out as a comprehensive and well-annotated resource for training and evaluating Real-Time Speech Emotion Recognition models. Its diverse emotions, multiple actors, and high-quality audio recordings make it an ideal choice for developing a robust and effective emotion recognition system tailored to my project's objectives."
   ]
  },
  {
   "cell_type": "markdown",
   "id": "cf5bcb39-43bf-4994-90cd-961caa39d1f8",
   "metadata": {},
   "source": [
    "## Extracting Mel-frequency cepstral coefficients"
   ]
  },
  {
   "cell_type": "code",
   "execution_count": 44,
   "id": "c233594c-4617-4399-913c-af55bab5e8c7",
   "metadata": {},
   "outputs": [],
   "source": [
    "def extract_mfcc(wav_file_name):\n",
    "    '''This function retrieves the mean of MFCC features from an input WAV file located \n",
    "    at the specified path. The input is the path to the WAV file, and the output is \n",
    "    the resulting MFCC features.'''\n",
    "    \n",
    "    # Loading the WAV file using librosa and obtaining the audio signal (y) and sampling rate (sr)\n",
    "    y, sr = librosa.load(wav_file_name)\n",
    "    \n",
    "    # Extracting MFCC features with a total of 40 coefficients, and computing the mean across dimensions\n",
    "    mfccs = np.mean(librosa.feature.mfcc(y=y, sr=sr, n_mfcc=40).T, axis=0)\n",
    "    \n",
    "    # Returning the resulting MFCC features\n",
    "    return mfccs"
   ]
  },
  {
   "cell_type": "code",
   "execution_count": 32,
   "id": "e51df859-c76b-41f6-9722-5f478e53a2b0",
   "metadata": {},
   "outputs": [],
   "source": [
    "# Lists to store labels and extracted MFCC features for the Ravdess emotional speech dataset\n",
    "ravdess_speech_labels = []  \n",
    "ravdess_speech_data = []\n",
    "\n",
    "# Iterating through the files in the specified directory\n",
    "for dirname, _, filenames in os.walk(r'C:\\Users\\mylen\\Downloads\\Speech-Emotion-Recognition-main (1)\\Speech-Emotion-Recognition-main\\archive (1)'):\n",
    "    for filename in filenames:\n",
    "        # Extracting emotion label from the filename and converting to an integer\n",
    "        ravdess_speech_labels.append(int(filename[7:8]) - 1)\n",
    "        \n",
    "        # Obtaining the full path of the WAV file\n",
    "        wav_file_name = os.path.join(dirname, filename)\n",
    "        \n",
    "        # Extracting MFCC features from the WAV file using the previously defined function\n",
    "        ravdess_speech_data.append(extract_mfcc(wav_file_name))\n"
   ]
  },
  {
   "cell_type": "markdown",
   "id": "6878cba7-88bb-4d7d-b7fb-6c44be449d51",
   "metadata": {},
   "source": [
    "In my Real-Time Speech Emotion Recognition project, I have a crucial function called `extract_mfcc` that plays a central role. This function takes the path to a WAV file as input and retrieves the mean of Mel-Frequency Cepstral Coefficients (MFCC) features. It utilizes the librosa library to load the WAV file, obtaining the audio signal (`y`) and the sampling rate (`sr`).\n",
    "\n",
    "Next, I use librosa again to extract the MFCC features. I specify parameters such as the number of coefficients (`n_mfcc`) as 40. The resulting features are then transposed and the mean is computed across dimensions.\n",
    "\n",
    "Finally, the function returns the computed MFCC features.\n",
    "\n",
    "Moving on to the main portion of the code, I'm populating lists (`ravdess_speech_labels` and `ravdess_speech_data`) to store emotion labels and the corresponding MFCC features for each WAV file in the Ravdess emotional speech dataset.\n",
    "\n",
    "This loop navigates through the files in the specified directory, extracting emotion labels from the filenames and converting them to integers. It then obtains the full path of each WAV file and extracts the corresponding MFCC features using the previously defined `extract_mfcc` function. The resulting lists are crucial components for training and evaluating my Real-Time Speech Emotion Recognition model."
   ]
  },
  {
   "cell_type": "markdown",
   "id": "c514e6d6-80c2-434f-a720-e9a6fd19a056",
   "metadata": {},
   "source": [
    "## Converting Data and Labels to Categorical Arrays"
   ]
  },
  {
   "cell_type": "code",
   "execution_count": 33,
   "id": "e3b5fa95-6e8e-41fd-85d2-cc5f0df86170",
   "metadata": {},
   "outputs": [
    {
     "data": {
      "text/plain": [
       "((2880, 40), (2880, 8))"
      ]
     },
     "execution_count": 33,
     "metadata": {},
     "output_type": "execute_result"
    }
   ],
   "source": [
    "# Converting the list of MFCC features into a NumPy array\n",
    "ravdess_speech_data_array = np.asarray(ravdess_speech_data)\n",
    "\n",
    "# Converting the list of emotion labels into a NumPy array\n",
    "ravdess_speech_label_array = np.array(ravdess_speech_labels)\n",
    "\n",
    "# Converting the integer labels into categorical format using one-hot encoding\n",
    "labels_categorical = to_categorical(ravdess_speech_label_array)\n",
    "\n",
    "# Displaying the shapes of the MFCC data array and the categorical label array\n",
    "ravdess_speech_data_array.shape, labels_categorical.shape"
   ]
  },
  {
   "cell_type": "markdown",
   "id": "f2b5bbc9-c2c5-42ea-bb3a-371ab6cc345b",
   "metadata": {},
   "source": [
    "In my Real-Time Speech Emotion Recognition project, I've reached a crucial stage where I'm preparing the data for training my machine learning model.\n",
    "\n",
    "Here, I convert the list of extracted Mel-Frequency Cepstral Coefficients (MFCC) features (`ravdess_speech_data`) into a NumPy array (`ravdess_speech_data_array`). This transformation is essential for efficient data handling and compatibility with machine learning algorithms.\n",
    "\n",
    "Similarly, I convert the list of emotion labels (`ravdess_speech_labels`) into a NumPy array (`ravdess_speech_label_array`). This array will serve as the ground truth labels for training my model.\n",
    "\n",
    "Finally, I display the shapes of the MFCC data array (`ravdess_speech_data_array`) and the categorical label array (`labels_categorical`). This is a quick check to ensure that the data has been correctly processed and is ready for training the Real-Time Speech Emotion Recognition model. The shapes provide insight into the dimensions of the data, a crucial step in confirming the data's suitability for model training."
   ]
  },
  {
   "cell_type": "markdown",
   "id": "909c8cca-83d8-443e-a3db-2738eb673068",
   "metadata": {},
   "source": [
    "## Dividing the dataset into training, validation, and testing subsets."
   ]
  },
  {
   "cell_type": "code",
   "execution_count": 34,
   "id": "2334ffd4-1f17-4ad7-ace4-4e796cdd5ba2",
   "metadata": {},
   "outputs": [],
   "source": [
    "# Splitting the dataset into training and testing sets using train_test_split\n",
    "x_train, x_test, y_train, y_test = train_test_split(np.array(ravdess_speech_data_array),\n",
    "                                                    labels_categorical, test_size=0.2,\n",
    "                                                    random_state=9)\n",
    "\n",
    "# Calculating the total number of samples in the dataset\n",
    "number_of_samples = ravdess_speech_data_array.shape[0]\n",
    "\n",
    "# Determining the number of samples for training, validation, and testing sets\n",
    "training_samples = int(number_of_samples * 0.8)\n",
    "validation_samples = int(number_of_samples * 0.1)\n",
    "test_samples = int(number_of_samples * 0.1)\n"
   ]
  },
  {
   "cell_type": "markdown",
   "id": "fdb7f6dc-030a-4b5a-8f18-422f1e789777",
   "metadata": {},
   "source": [
    "In my Real-Time Speech Emotion Recognition project, I've now reached the crucial step of splitting my dataset into training and testing sets. I achieve this using the `train_test_split` function, ensuring that the features (`x_train` and `x_test`) and labels (`y_train` and `y_test`) are appropriately assigned. I've opted for an 80-20 split, designating 20% of the data for testing, and I've set a random seed (`random_state=9`) for reproducibility.\n",
    "\n",
    "\n",
    "After this split, I proceed to calculate the total number of samples in my dataset (`number_of_samples`). This information is crucial for determining the number of samples I'll allocate for training, validation, and testing sets based on a predefined distribution ratio.\n",
    "\n",
    "Next, I determine the number of samples for each set. For training, I allocate 80% of the total samples; for validation and testing, I assign 10% each.\n",
    "\n",
    "\n",
    "This meticulous allocation ensures that I have a well-balanced dataset for training and evaluating my Real-Time Speech Emotion Recognition model."
   ]
  },
  {
   "cell_type": "markdown",
   "id": "84958778-d8d2-480e-847f-2b7fdfcadf40",
   "metadata": {},
   "source": [
    "## Defining the LSTM Model"
   ]
  },
  {
   "cell_type": "code",
   "execution_count": 35,
   "id": "32f1a01f-a7e9-4aa2-96a5-81a0fabf7a5e",
   "metadata": {},
   "outputs": [],
   "source": [
    "from tensorflow.keras.models import Sequential\n",
    "from tensorflow.keras.layers import LSTM, Dense, Dropout, Activation, BatchNormalization, Bidirectional\n",
    "\n",
    "def create_model_LSTM():\n",
    "    model = Sequential()\n",
    "    \n",
    "    # Bidirectional LSTM layer with 128 units\n",
    "    model.add(Bidirectional(LSTM(128, return_sequences=True, input_shape=(40, 1))))\n",
    "    model.add(Dropout(0.3))\n",
    "    model.add(BatchNormalization())\n",
    "    \n",
    "    # Second LSTM layer\n",
    "    model.add(Bidirectional(LSTM(64, return_sequences=False)))\n",
    "    model.add(Dropout(0.3))\n",
    "    model.add(BatchNormalization())\n",
    "    \n",
    "    # Fully connected layers\n",
    "    model.add(Dense(64, activation='relu'))\n",
    "    model.add(Dropout(0.3))\n",
    "    model.add(BatchNormalization())\n",
    "\n",
    "    model.add(Dense(32, activation='relu'))\n",
    "    model.add(Dropout(0.3))\n",
    "    model.add(BatchNormalization())\n",
    "\n",
    "    # Output layer with 8 classes\n",
    "    model.add(Dense(8, activation='softmax'))\n",
    "\n",
    "    # Compile model\n",
    "    model.compile(loss='categorical_crossentropy', optimizer='Adam', metrics=['accuracy'])\n",
    "\n",
    "    model.summary()\n",
    "    return model\n"
   ]
  },
  {
   "cell_type": "markdown",
   "id": "04ed5a38-bd66-4577-87c2-d09329f7c620",
   "metadata": {},
   "source": [
    "In my Real-Time Speech Emotion Recognition project, I've created a dedicated function, `create_model_LSTM`, to define the architecture of my LSTM (Long Short-Term Memory) neural network for the task at hand.\n",
    "\n",
    "```python\n",
    "# Initializing a sequential model\n",
    "model = Sequential()\n",
    "```\n",
    "I begin by initializing a sequential model, which allows me to build the neural network layer by layer in a sequential manner.\n",
    "\n",
    "```python\n",
    "# Adding an LSTM layer with 128 units, not returning sequences, and input shape of (40, 1)\n",
    "model.add(LSTM(128, return_sequences=False, input_shape=(40, 1)))\n",
    "```\n",
    "The first layer is an LSTM layer with 128 units. It doesn't return sequences, and it expects input data with a shape of (40, 1), which aligns with the Mel-Frequency Cepstral Coefficients (MFCC) features.\n",
    "\n",
    "```python\n",
    "# Adding a Dense layer with 64 units\n",
    "model.add(Dense(64))\n",
    "```\n",
    "Following the LSTM layer, I add a Dense layer with 64 units, which introduces a level of complexity to the network.\n",
    "\n",
    "```python\n",
    "# Adding a Dropout layer with a dropout rate of 40%\n",
    "model.add(Dropout(0.4))\n",
    "```\n",
    "To prevent overfitting, I include a Dropout layer with a dropout rate of 40%, which randomly drops a proportion of connections during training.\n",
    "\n",
    "```python\n",
    "# Adding an Activation layer with ReLU activation function\n",
    "model.add(Activation('relu'))\n",
    "```\n",
    "An Activation layer with the Rectified Linear Unit (ReLU) activation function is added to introduce non-linearity to the model.\n",
    "\n",
    "```python\n",
    "# Adding another Dense layer with 32 units\n",
    "model.add(Dense(32))\n",
    "```\n",
    "I continue by adding another Dense layer with 32 units, further shaping the network's complexity.\n",
    "\n",
    "```python\n",
    "# Adding a Dropout layer with a dropout rate of 40%\n",
    "model.add(Dropout(0.4))\n",
    "```\n",
    "Again, to mitigate overfitting, I include another Dropout layer with a 40% dropout rate.\n",
    "\n",
    "```python\n",
    "# Adding an Activation layer with ReLU activation function\n",
    "model.add(Activation('relu'))\n",
    "```\n",
    "Another Activation layer with the ReLU activation function follows to enhance the non-linear characteristics of the model.\n",
    "\n",
    "```python\n",
    "# Adding another Dense layer with 8 units\n",
    "model.add(Dense(8))\n",
    "```\n",
    "I introduce another Dense layer with 8 units, potentially capturing higher-level features in the data.\n",
    "\n",
    "```python\n",
    "# Adding an Activation layer with softmax activation function for multiclass classification\n",
    "model.add(Activation('softmax'))\n",
    "```\n",
    "The final layer is an Activation layer with the softmax activation function, suitable for multiclass classification tasks like emotion recognition.\n",
    "\n",
    "```python\n",
    "# Compiling the model with categorical crossentropy loss, Adam optimizer, and accuracy metric\n",
    "model.compile(loss='categorical_crossentropy', optimizer='Adam', metrics=['accuracy'])\n",
    "```\n",
    "I compile the model with categorical crossentropy loss, the Adam optimizer, and use accuracy as the metric to optimize during training.\n",
    "\n",
    "```python\n",
    "# Returning the compiled model\n",
    "return model\n",
    "```\n",
    "The function concludes by returning the compiled LSTM model, ready for training and evaluating on the Real-Time Speech Emotion Recognition dataset."
   ]
  },
  {
   "cell_type": "markdown",
   "id": "1da44d03-b393-4dbe-97e1-6d02af46f9cf",
   "metadata": {},
   "source": [
    "## Training the Deep Learning LSTM Model"
   ]
  },
  {
   "cell_type": "code",
   "execution_count": 36,
   "id": "e1a2da35-85fc-4f14-9ac4-e271390e2271",
   "metadata": {},
   "outputs": [
    {
     "data": {
      "text/html": [
       "<pre style=\"white-space:pre;overflow-x:auto;line-height:normal;font-family:Menlo,'DejaVu Sans Mono',consolas,'Courier New',monospace\"><span style=\"font-weight: bold\">Model: \"sequential_1\"</span>\n",
       "</pre>\n"
      ],
      "text/plain": [
       "\u001b[1mModel: \"sequential_1\"\u001b[0m\n"
      ]
     },
     "metadata": {},
     "output_type": "display_data"
    },
    {
     "data": {
      "text/html": [
       "<pre style=\"white-space:pre;overflow-x:auto;line-height:normal;font-family:Menlo,'DejaVu Sans Mono',consolas,'Courier New',monospace\">┏━━━━━━━━━━━━━━━━━━━━━━━━━━━━━━━━━┳━━━━━━━━━━━━━━━━━━━━━━━━┳━━━━━━━━━━━━━━━┓\n",
       "┃<span style=\"font-weight: bold\"> Layer (type)                    </span>┃<span style=\"font-weight: bold\"> Output Shape           </span>┃<span style=\"font-weight: bold\">       Param # </span>┃\n",
       "┡━━━━━━━━━━━━━━━━━━━━━━━━━━━━━━━━━╇━━━━━━━━━━━━━━━━━━━━━━━━╇━━━━━━━━━━━━━━━┩\n",
       "│ bidirectional (<span style=\"color: #0087ff; text-decoration-color: #0087ff\">Bidirectional</span>)   │ ?                      │   <span style=\"color: #00af00; text-decoration-color: #00af00\">0</span> (unbuilt) │\n",
       "├─────────────────────────────────┼────────────────────────┼───────────────┤\n",
       "│ dropout_2 (<span style=\"color: #0087ff; text-decoration-color: #0087ff\">Dropout</span>)             │ ?                      │             <span style=\"color: #00af00; text-decoration-color: #00af00\">0</span> │\n",
       "├─────────────────────────────────┼────────────────────────┼───────────────┤\n",
       "│ batch_normalization             │ ?                      │   <span style=\"color: #00af00; text-decoration-color: #00af00\">0</span> (unbuilt) │\n",
       "│ (<span style=\"color: #0087ff; text-decoration-color: #0087ff\">BatchNormalization</span>)            │                        │               │\n",
       "├─────────────────────────────────┼────────────────────────┼───────────────┤\n",
       "│ bidirectional_1 (<span style=\"color: #0087ff; text-decoration-color: #0087ff\">Bidirectional</span>) │ ?                      │   <span style=\"color: #00af00; text-decoration-color: #00af00\">0</span> (unbuilt) │\n",
       "├─────────────────────────────────┼────────────────────────┼───────────────┤\n",
       "│ dropout_3 (<span style=\"color: #0087ff; text-decoration-color: #0087ff\">Dropout</span>)             │ ?                      │             <span style=\"color: #00af00; text-decoration-color: #00af00\">0</span> │\n",
       "├─────────────────────────────────┼────────────────────────┼───────────────┤\n",
       "│ batch_normalization_1           │ ?                      │   <span style=\"color: #00af00; text-decoration-color: #00af00\">0</span> (unbuilt) │\n",
       "│ (<span style=\"color: #0087ff; text-decoration-color: #0087ff\">BatchNormalization</span>)            │                        │               │\n",
       "├─────────────────────────────────┼────────────────────────┼───────────────┤\n",
       "│ dense_3 (<span style=\"color: #0087ff; text-decoration-color: #0087ff\">Dense</span>)                 │ ?                      │   <span style=\"color: #00af00; text-decoration-color: #00af00\">0</span> (unbuilt) │\n",
       "├─────────────────────────────────┼────────────────────────┼───────────────┤\n",
       "│ dropout_4 (<span style=\"color: #0087ff; text-decoration-color: #0087ff\">Dropout</span>)             │ ?                      │             <span style=\"color: #00af00; text-decoration-color: #00af00\">0</span> │\n",
       "├─────────────────────────────────┼────────────────────────┼───────────────┤\n",
       "│ batch_normalization_2           │ ?                      │   <span style=\"color: #00af00; text-decoration-color: #00af00\">0</span> (unbuilt) │\n",
       "│ (<span style=\"color: #0087ff; text-decoration-color: #0087ff\">BatchNormalization</span>)            │                        │               │\n",
       "├─────────────────────────────────┼────────────────────────┼───────────────┤\n",
       "│ dense_4 (<span style=\"color: #0087ff; text-decoration-color: #0087ff\">Dense</span>)                 │ ?                      │   <span style=\"color: #00af00; text-decoration-color: #00af00\">0</span> (unbuilt) │\n",
       "├─────────────────────────────────┼────────────────────────┼───────────────┤\n",
       "│ dropout_5 (<span style=\"color: #0087ff; text-decoration-color: #0087ff\">Dropout</span>)             │ ?                      │             <span style=\"color: #00af00; text-decoration-color: #00af00\">0</span> │\n",
       "├─────────────────────────────────┼────────────────────────┼───────────────┤\n",
       "│ batch_normalization_3           │ ?                      │   <span style=\"color: #00af00; text-decoration-color: #00af00\">0</span> (unbuilt) │\n",
       "│ (<span style=\"color: #0087ff; text-decoration-color: #0087ff\">BatchNormalization</span>)            │                        │               │\n",
       "├─────────────────────────────────┼────────────────────────┼───────────────┤\n",
       "│ dense_5 (<span style=\"color: #0087ff; text-decoration-color: #0087ff\">Dense</span>)                 │ ?                      │   <span style=\"color: #00af00; text-decoration-color: #00af00\">0</span> (unbuilt) │\n",
       "└─────────────────────────────────┴────────────────────────┴───────────────┘\n",
       "</pre>\n"
      ],
      "text/plain": [
       "┏━━━━━━━━━━━━━━━━━━━━━━━━━━━━━━━━━┳━━━━━━━━━━━━━━━━━━━━━━━━┳━━━━━━━━━━━━━━━┓\n",
       "┃\u001b[1m \u001b[0m\u001b[1mLayer (type)                   \u001b[0m\u001b[1m \u001b[0m┃\u001b[1m \u001b[0m\u001b[1mOutput Shape          \u001b[0m\u001b[1m \u001b[0m┃\u001b[1m \u001b[0m\u001b[1m      Param #\u001b[0m\u001b[1m \u001b[0m┃\n",
       "┡━━━━━━━━━━━━━━━━━━━━━━━━━━━━━━━━━╇━━━━━━━━━━━━━━━━━━━━━━━━╇━━━━━━━━━━━━━━━┩\n",
       "│ bidirectional (\u001b[38;5;33mBidirectional\u001b[0m)   │ ?                      │   \u001b[38;5;34m0\u001b[0m (unbuilt) │\n",
       "├─────────────────────────────────┼────────────────────────┼───────────────┤\n",
       "│ dropout_2 (\u001b[38;5;33mDropout\u001b[0m)             │ ?                      │             \u001b[38;5;34m0\u001b[0m │\n",
       "├─────────────────────────────────┼────────────────────────┼───────────────┤\n",
       "│ batch_normalization             │ ?                      │   \u001b[38;5;34m0\u001b[0m (unbuilt) │\n",
       "│ (\u001b[38;5;33mBatchNormalization\u001b[0m)            │                        │               │\n",
       "├─────────────────────────────────┼────────────────────────┼───────────────┤\n",
       "│ bidirectional_1 (\u001b[38;5;33mBidirectional\u001b[0m) │ ?                      │   \u001b[38;5;34m0\u001b[0m (unbuilt) │\n",
       "├─────────────────────────────────┼────────────────────────┼───────────────┤\n",
       "│ dropout_3 (\u001b[38;5;33mDropout\u001b[0m)             │ ?                      │             \u001b[38;5;34m0\u001b[0m │\n",
       "├─────────────────────────────────┼────────────────────────┼───────────────┤\n",
       "│ batch_normalization_1           │ ?                      │   \u001b[38;5;34m0\u001b[0m (unbuilt) │\n",
       "│ (\u001b[38;5;33mBatchNormalization\u001b[0m)            │                        │               │\n",
       "├─────────────────────────────────┼────────────────────────┼───────────────┤\n",
       "│ dense_3 (\u001b[38;5;33mDense\u001b[0m)                 │ ?                      │   \u001b[38;5;34m0\u001b[0m (unbuilt) │\n",
       "├─────────────────────────────────┼────────────────────────┼───────────────┤\n",
       "│ dropout_4 (\u001b[38;5;33mDropout\u001b[0m)             │ ?                      │             \u001b[38;5;34m0\u001b[0m │\n",
       "├─────────────────────────────────┼────────────────────────┼───────────────┤\n",
       "│ batch_normalization_2           │ ?                      │   \u001b[38;5;34m0\u001b[0m (unbuilt) │\n",
       "│ (\u001b[38;5;33mBatchNormalization\u001b[0m)            │                        │               │\n",
       "├─────────────────────────────────┼────────────────────────┼───────────────┤\n",
       "│ dense_4 (\u001b[38;5;33mDense\u001b[0m)                 │ ?                      │   \u001b[38;5;34m0\u001b[0m (unbuilt) │\n",
       "├─────────────────────────────────┼────────────────────────┼───────────────┤\n",
       "│ dropout_5 (\u001b[38;5;33mDropout\u001b[0m)             │ ?                      │             \u001b[38;5;34m0\u001b[0m │\n",
       "├─────────────────────────────────┼────────────────────────┼───────────────┤\n",
       "│ batch_normalization_3           │ ?                      │   \u001b[38;5;34m0\u001b[0m (unbuilt) │\n",
       "│ (\u001b[38;5;33mBatchNormalization\u001b[0m)            │                        │               │\n",
       "├─────────────────────────────────┼────────────────────────┼───────────────┤\n",
       "│ dense_5 (\u001b[38;5;33mDense\u001b[0m)                 │ ?                      │   \u001b[38;5;34m0\u001b[0m (unbuilt) │\n",
       "└─────────────────────────────────┴────────────────────────┴───────────────┘\n"
      ]
     },
     "metadata": {},
     "output_type": "display_data"
    },
    {
     "data": {
      "text/html": [
       "<pre style=\"white-space:pre;overflow-x:auto;line-height:normal;font-family:Menlo,'DejaVu Sans Mono',consolas,'Courier New',monospace\"><span style=\"font-weight: bold\"> Total params: </span><span style=\"color: #00af00; text-decoration-color: #00af00\">0</span> (0.00 B)\n",
       "</pre>\n"
      ],
      "text/plain": [
       "\u001b[1m Total params: \u001b[0m\u001b[38;5;34m0\u001b[0m (0.00 B)\n"
      ]
     },
     "metadata": {},
     "output_type": "display_data"
    },
    {
     "data": {
      "text/html": [
       "<pre style=\"white-space:pre;overflow-x:auto;line-height:normal;font-family:Menlo,'DejaVu Sans Mono',consolas,'Courier New',monospace\"><span style=\"font-weight: bold\"> Trainable params: </span><span style=\"color: #00af00; text-decoration-color: #00af00\">0</span> (0.00 B)\n",
       "</pre>\n"
      ],
      "text/plain": [
       "\u001b[1m Trainable params: \u001b[0m\u001b[38;5;34m0\u001b[0m (0.00 B)\n"
      ]
     },
     "metadata": {},
     "output_type": "display_data"
    },
    {
     "data": {
      "text/html": [
       "<pre style=\"white-space:pre;overflow-x:auto;line-height:normal;font-family:Menlo,'DejaVu Sans Mono',consolas,'Courier New',monospace\"><span style=\"font-weight: bold\"> Non-trainable params: </span><span style=\"color: #00af00; text-decoration-color: #00af00\">0</span> (0.00 B)\n",
       "</pre>\n"
      ],
      "text/plain": [
       "\u001b[1m Non-trainable params: \u001b[0m\u001b[38;5;34m0\u001b[0m (0.00 B)\n"
      ]
     },
     "metadata": {},
     "output_type": "display_data"
    }
   ],
   "source": [
    "LSTM_model = create_model_LSTM()"
   ]
  },
  {
   "cell_type": "code",
   "execution_count": 37,
   "id": "410f21b7-014d-41b9-8bd6-292ff38f2710",
   "metadata": {
    "scrolled": true
   },
   "outputs": [
    {
     "name": "stdout",
     "output_type": "stream",
     "text": [
      "Epoch 1/121\n",
      "\u001b[1m72/72\u001b[0m \u001b[32m━━━━━━━━━━━━━━━━━━━━\u001b[0m\u001b[37m\u001b[0m \u001b[1m48s\u001b[0m 92ms/step - accuracy: 0.1304 - loss: 2.5947 - val_accuracy: 0.1667 - val_loss: 2.0628\n",
      "Epoch 2/121\n",
      "\u001b[1m72/72\u001b[0m \u001b[32m━━━━━━━━━━━━━━━━━━━━\u001b[0m\u001b[37m\u001b[0m \u001b[1m6s\u001b[0m 78ms/step - accuracy: 0.1547 - loss: 2.3498 - val_accuracy: 0.1944 - val_loss: 2.0047\n",
      "Epoch 3/121\n",
      "\u001b[1m72/72\u001b[0m \u001b[32m━━━━━━━━━━━━━━━━━━━━\u001b[0m\u001b[37m\u001b[0m \u001b[1m9s\u001b[0m 62ms/step - accuracy: 0.2000 - loss: 2.1551 - val_accuracy: 0.3160 - val_loss: 1.8380\n",
      "Epoch 4/121\n",
      "\u001b[1m72/72\u001b[0m \u001b[32m━━━━━━━━━━━━━━━━━━━━\u001b[0m\u001b[37m\u001b[0m \u001b[1m7s\u001b[0m 97ms/step - accuracy: 0.1983 - loss: 2.0953 - val_accuracy: 0.2743 - val_loss: 1.8316\n",
      "Epoch 5/121\n",
      "\u001b[1m72/72\u001b[0m \u001b[32m━━━━━━━━━━━━━━━━━━━━\u001b[0m\u001b[37m\u001b[0m \u001b[1m7s\u001b[0m 96ms/step - accuracy: 0.2214 - loss: 2.0124 - val_accuracy: 0.3229 - val_loss: 1.7944\n",
      "Epoch 6/121\n",
      "\u001b[1m72/72\u001b[0m \u001b[32m━━━━━━━━━━━━━━━━━━━━\u001b[0m\u001b[37m\u001b[0m \u001b[1m7s\u001b[0m 93ms/step - accuracy: 0.2380 - loss: 1.9505 - val_accuracy: 0.3646 - val_loss: 1.8011\n",
      "Epoch 7/121\n",
      "\u001b[1m72/72\u001b[0m \u001b[32m━━━━━━━━━━━━━━━━━━━━\u001b[0m\u001b[37m\u001b[0m \u001b[1m7s\u001b[0m 93ms/step - accuracy: 0.2588 - loss: 1.8886 - val_accuracy: 0.3576 - val_loss: 1.7463\n",
      "Epoch 8/121\n",
      "\u001b[1m72/72\u001b[0m \u001b[32m━━━━━━━━━━━━━━━━━━━━\u001b[0m\u001b[37m\u001b[0m \u001b[1m7s\u001b[0m 99ms/step - accuracy: 0.2893 - loss: 1.8621 - val_accuracy: 0.3438 - val_loss: 1.7351\n",
      "Epoch 9/121\n",
      "\u001b[1m72/72\u001b[0m \u001b[32m━━━━━━━━━━━━━━━━━━━━\u001b[0m\u001b[37m\u001b[0m \u001b[1m6s\u001b[0m 90ms/step - accuracy: 0.2934 - loss: 1.8189 - val_accuracy: 0.3646 - val_loss: 1.7260\n",
      "Epoch 10/121\n",
      "\u001b[1m72/72\u001b[0m \u001b[32m━━━━━━━━━━━━━━━━━━━━\u001b[0m\u001b[37m\u001b[0m \u001b[1m7s\u001b[0m 98ms/step - accuracy: 0.3063 - loss: 1.8098 - val_accuracy: 0.3819 - val_loss: 1.7083\n",
      "Epoch 11/121\n",
      "\u001b[1m72/72\u001b[0m \u001b[32m━━━━━━━━━━━━━━━━━━━━\u001b[0m\u001b[37m\u001b[0m \u001b[1m7s\u001b[0m 101ms/step - accuracy: 0.3121 - loss: 1.8021 - val_accuracy: 0.3819 - val_loss: 1.6828\n",
      "Epoch 12/121\n",
      "\u001b[1m72/72\u001b[0m \u001b[32m━━━━━━━━━━━━━━━━━━━━\u001b[0m\u001b[37m\u001b[0m \u001b[1m7s\u001b[0m 91ms/step - accuracy: 0.3429 - loss: 1.7485 - val_accuracy: 0.3646 - val_loss: 1.6961\n",
      "Epoch 13/121\n",
      "\u001b[1m72/72\u001b[0m \u001b[32m━━━━━━━━━━━━━━━━━━━━\u001b[0m\u001b[37m\u001b[0m \u001b[1m9s\u001b[0m 121ms/step - accuracy: 0.3289 - loss: 1.7756 - val_accuracy: 0.3438 - val_loss: 1.7213\n",
      "Epoch 14/121\n",
      "\u001b[1m72/72\u001b[0m \u001b[32m━━━━━━━━━━━━━━━━━━━━\u001b[0m\u001b[37m\u001b[0m \u001b[1m9s\u001b[0m 124ms/step - accuracy: 0.3308 - loss: 1.7335 - val_accuracy: 0.3472 - val_loss: 1.7265\n",
      "Epoch 15/121\n",
      "\u001b[1m72/72\u001b[0m \u001b[32m━━━━━━━━━━━━━━━━━━━━\u001b[0m\u001b[37m\u001b[0m \u001b[1m7s\u001b[0m 99ms/step - accuracy: 0.3345 - loss: 1.7231 - val_accuracy: 0.3958 - val_loss: 1.6057\n",
      "Epoch 16/121\n",
      "\u001b[1m72/72\u001b[0m \u001b[32m━━━━━━━━━━━━━━━━━━━━\u001b[0m\u001b[37m\u001b[0m \u001b[1m7s\u001b[0m 102ms/step - accuracy: 0.3539 - loss: 1.7151 - val_accuracy: 0.4201 - val_loss: 1.6255\n",
      "Epoch 17/121\n",
      "\u001b[1m72/72\u001b[0m \u001b[32m━━━━━━━━━━━━━━━━━━━━\u001b[0m\u001b[37m\u001b[0m \u001b[1m8s\u001b[0m 108ms/step - accuracy: 0.3415 - loss: 1.6826 - val_accuracy: 0.3299 - val_loss: 1.7698\n",
      "Epoch 18/121\n",
      "\u001b[1m72/72\u001b[0m \u001b[32m━━━━━━━━━━━━━━━━━━━━\u001b[0m\u001b[37m\u001b[0m \u001b[1m12s\u001b[0m 162ms/step - accuracy: 0.3798 - loss: 1.6484 - val_accuracy: 0.3924 - val_loss: 1.6363\n",
      "Epoch 19/121\n",
      "\u001b[1m72/72\u001b[0m \u001b[32m━━━━━━━━━━━━━━━━━━━━\u001b[0m\u001b[37m\u001b[0m \u001b[1m7s\u001b[0m 100ms/step - accuracy: 0.3573 - loss: 1.6757 - val_accuracy: 0.4097 - val_loss: 1.5403\n",
      "Epoch 20/121\n",
      "\u001b[1m72/72\u001b[0m \u001b[32m━━━━━━━━━━━━━━━━━━━━\u001b[0m\u001b[37m\u001b[0m \u001b[1m7s\u001b[0m 93ms/step - accuracy: 0.3615 - loss: 1.6741 - val_accuracy: 0.4062 - val_loss: 1.6170\n",
      "Epoch 21/121\n",
      "\u001b[1m72/72\u001b[0m \u001b[32m━━━━━━━━━━━━━━━━━━━━\u001b[0m\u001b[37m\u001b[0m \u001b[1m6s\u001b[0m 83ms/step - accuracy: 0.3780 - loss: 1.6142 - val_accuracy: 0.4410 - val_loss: 1.5514\n",
      "Epoch 22/121\n",
      "\u001b[1m72/72\u001b[0m \u001b[32m━━━━━━━━━━━━━━━━━━━━\u001b[0m\u001b[37m\u001b[0m \u001b[1m6s\u001b[0m 82ms/step - accuracy: 0.3988 - loss: 1.6223 - val_accuracy: 0.4201 - val_loss: 1.5641\n",
      "Epoch 23/121\n",
      "\u001b[1m72/72\u001b[0m \u001b[32m━━━━━━━━━━━━━━━━━━━━\u001b[0m\u001b[37m\u001b[0m \u001b[1m6s\u001b[0m 81ms/step - accuracy: 0.4066 - loss: 1.5706 - val_accuracy: 0.4722 - val_loss: 1.5268\n",
      "Epoch 24/121\n",
      "\u001b[1m72/72\u001b[0m \u001b[32m━━━━━━━━━━━━━━━━━━━━\u001b[0m\u001b[37m\u001b[0m \u001b[1m12s\u001b[0m 167ms/step - accuracy: 0.3937 - loss: 1.5797 - val_accuracy: 0.4514 - val_loss: 1.5168\n",
      "Epoch 25/121\n",
      "\u001b[1m72/72\u001b[0m \u001b[32m━━━━━━━━━━━━━━━━━━━━\u001b[0m\u001b[37m\u001b[0m \u001b[1m21s\u001b[0m 172ms/step - accuracy: 0.4162 - loss: 1.5614 - val_accuracy: 0.4618 - val_loss: 1.4786\n",
      "Epoch 26/121\n",
      "\u001b[1m72/72\u001b[0m \u001b[32m━━━━━━━━━━━━━━━━━━━━\u001b[0m\u001b[37m\u001b[0m \u001b[1m14s\u001b[0m 189ms/step - accuracy: 0.4417 - loss: 1.5229 - val_accuracy: 0.4549 - val_loss: 1.4802\n",
      "Epoch 27/121\n",
      "\u001b[1m72/72\u001b[0m \u001b[32m━━━━━━━━━━━━━━━━━━━━\u001b[0m\u001b[37m\u001b[0m \u001b[1m12s\u001b[0m 168ms/step - accuracy: 0.4286 - loss: 1.5149 - val_accuracy: 0.4549 - val_loss: 1.4784\n",
      "Epoch 28/121\n",
      "\u001b[1m72/72\u001b[0m \u001b[32m━━━━━━━━━━━━━━━━━━━━\u001b[0m\u001b[37m\u001b[0m \u001b[1m10s\u001b[0m 131ms/step - accuracy: 0.4256 - loss: 1.5539 - val_accuracy: 0.4618 - val_loss: 1.4678\n",
      "Epoch 29/121\n",
      "\u001b[1m72/72\u001b[0m \u001b[32m━━━━━━━━━━━━━━━━━━━━\u001b[0m\u001b[37m\u001b[0m \u001b[1m6s\u001b[0m 87ms/step - accuracy: 0.4342 - loss: 1.4970 - val_accuracy: 0.4792 - val_loss: 1.4059\n",
      "Epoch 30/121\n",
      "\u001b[1m72/72\u001b[0m \u001b[32m━━━━━━━━━━━━━━━━━━━━\u001b[0m\u001b[37m\u001b[0m \u001b[1m15s\u001b[0m 205ms/step - accuracy: 0.4283 - loss: 1.4921 - val_accuracy: 0.4861 - val_loss: 1.3940\n",
      "Epoch 31/121\n",
      "\u001b[1m72/72\u001b[0m \u001b[32m━━━━━━━━━━━━━━━━━━━━\u001b[0m\u001b[37m\u001b[0m \u001b[1m16s\u001b[0m 134ms/step - accuracy: 0.4337 - loss: 1.4991 - val_accuracy: 0.4340 - val_loss: 1.6003\n",
      "Epoch 32/121\n",
      "\u001b[1m72/72\u001b[0m \u001b[32m━━━━━━━━━━━━━━━━━━━━\u001b[0m\u001b[37m\u001b[0m \u001b[1m9s\u001b[0m 122ms/step - accuracy: 0.4487 - loss: 1.5071 - val_accuracy: 0.4826 - val_loss: 1.4092\n",
      "Epoch 33/121\n",
      "\u001b[1m72/72\u001b[0m \u001b[32m━━━━━━━━━━━━━━━━━━━━\u001b[0m\u001b[37m\u001b[0m \u001b[1m6s\u001b[0m 87ms/step - accuracy: 0.4694 - loss: 1.4181 - val_accuracy: 0.5000 - val_loss: 1.3524\n",
      "Epoch 34/121\n",
      "\u001b[1m72/72\u001b[0m \u001b[32m━━━━━━━━━━━━━━━━━━━━\u001b[0m\u001b[37m\u001b[0m \u001b[1m12s\u001b[0m 167ms/step - accuracy: 0.4731 - loss: 1.4257 - val_accuracy: 0.4965 - val_loss: 1.4118\n",
      "Epoch 35/121\n",
      "\u001b[1m72/72\u001b[0m \u001b[32m━━━━━━━━━━━━━━━━━━━━\u001b[0m\u001b[37m\u001b[0m \u001b[1m21s\u001b[0m 165ms/step - accuracy: 0.4662 - loss: 1.4092 - val_accuracy: 0.5035 - val_loss: 1.3149\n",
      "Epoch 36/121\n",
      "\u001b[1m72/72\u001b[0m \u001b[32m━━━━━━━━━━━━━━━━━━━━\u001b[0m\u001b[37m\u001b[0m \u001b[1m6s\u001b[0m 85ms/step - accuracy: 0.5158 - loss: 1.3586 - val_accuracy: 0.5104 - val_loss: 1.2988\n",
      "Epoch 37/121\n",
      "\u001b[1m72/72\u001b[0m \u001b[32m━━━━━━━━━━━━━━━━━━━━\u001b[0m\u001b[37m\u001b[0m \u001b[1m13s\u001b[0m 185ms/step - accuracy: 0.4720 - loss: 1.4001 - val_accuracy: 0.5069 - val_loss: 1.2935\n",
      "Epoch 38/121\n",
      "\u001b[1m72/72\u001b[0m \u001b[32m━━━━━━━━━━━━━━━━━━━━\u001b[0m\u001b[37m\u001b[0m \u001b[1m19s\u001b[0m 155ms/step - accuracy: 0.5253 - loss: 1.3391 - val_accuracy: 0.5382 - val_loss: 1.2637\n",
      "Epoch 39/121\n",
      "\u001b[1m72/72\u001b[0m \u001b[32m━━━━━━━━━━━━━━━━━━━━\u001b[0m\u001b[37m\u001b[0m \u001b[1m20s\u001b[0m 153ms/step - accuracy: 0.5170 - loss: 1.3333 - val_accuracy: 0.5590 - val_loss: 1.1999\n",
      "Epoch 40/121\n",
      "\u001b[1m72/72\u001b[0m \u001b[32m━━━━━━━━━━━━━━━━━━━━\u001b[0m\u001b[37m\u001b[0m \u001b[1m14s\u001b[0m 194ms/step - accuracy: 0.5493 - loss: 1.2713 - val_accuracy: 0.5660 - val_loss: 1.2688\n",
      "Epoch 41/121\n",
      "\u001b[1m72/72\u001b[0m \u001b[32m━━━━━━━━━━━━━━━━━━━━\u001b[0m\u001b[37m\u001b[0m \u001b[1m14s\u001b[0m 185ms/step - accuracy: 0.5055 - loss: 1.3224 - val_accuracy: 0.5312 - val_loss: 1.2560\n",
      "Epoch 42/121\n",
      "\u001b[1m72/72\u001b[0m \u001b[32m━━━━━━━━━━━━━━━━━━━━\u001b[0m\u001b[37m\u001b[0m \u001b[1m21s\u001b[0m 184ms/step - accuracy: 0.5317 - loss: 1.2742 - val_accuracy: 0.5972 - val_loss: 1.1399\n",
      "Epoch 43/121\n",
      "\u001b[1m72/72\u001b[0m \u001b[32m━━━━━━━━━━━━━━━━━━━━\u001b[0m\u001b[37m\u001b[0m \u001b[1m13s\u001b[0m 177ms/step - accuracy: 0.5673 - loss: 1.2326 - val_accuracy: 0.5660 - val_loss: 1.1926\n",
      "Epoch 44/121\n",
      "\u001b[1m72/72\u001b[0m \u001b[32m━━━━━━━━━━━━━━━━━━━━\u001b[0m\u001b[37m\u001b[0m \u001b[1m9s\u001b[0m 127ms/step - accuracy: 0.5682 - loss: 1.2167 - val_accuracy: 0.5833 - val_loss: 1.1791\n",
      "Epoch 45/121\n",
      "\u001b[1m72/72\u001b[0m \u001b[32m━━━━━━━━━━━━━━━━━━━━\u001b[0m\u001b[37m\u001b[0m \u001b[1m10s\u001b[0m 141ms/step - accuracy: 0.5770 - loss: 1.1618 - val_accuracy: 0.5729 - val_loss: 1.1692\n",
      "Epoch 46/121\n",
      "\u001b[1m72/72\u001b[0m \u001b[32m━━━━━━━━━━━━━━━━━━━━\u001b[0m\u001b[37m\u001b[0m \u001b[1m14s\u001b[0m 188ms/step - accuracy: 0.5857 - loss: 1.1572 - val_accuracy: 0.5729 - val_loss: 1.1605\n",
      "Epoch 47/121\n",
      "\u001b[1m72/72\u001b[0m \u001b[32m━━━━━━━━━━━━━━━━━━━━\u001b[0m\u001b[37m\u001b[0m \u001b[1m14s\u001b[0m 92ms/step - accuracy: 0.5963 - loss: 1.1219 - val_accuracy: 0.6146 - val_loss: 1.0655\n",
      "Epoch 48/121\n",
      "\u001b[1m72/72\u001b[0m \u001b[32m━━━━━━━━━━━━━━━━━━━━\u001b[0m\u001b[37m\u001b[0m \u001b[1m13s\u001b[0m 173ms/step - accuracy: 0.6373 - loss: 1.0950 - val_accuracy: 0.6076 - val_loss: 1.1045\n",
      "Epoch 49/121\n",
      "\u001b[1m72/72\u001b[0m \u001b[32m━━━━━━━━━━━━━━━━━━━━\u001b[0m\u001b[37m\u001b[0m \u001b[1m21s\u001b[0m 174ms/step - accuracy: 0.6047 - loss: 1.0953 - val_accuracy: 0.5729 - val_loss: 1.1544\n",
      "Epoch 50/121\n",
      "\u001b[1m72/72\u001b[0m \u001b[32m━━━━━━━━━━━━━━━━━━━━\u001b[0m\u001b[37m\u001b[0m \u001b[1m12s\u001b[0m 167ms/step - accuracy: 0.5963 - loss: 1.1156 - val_accuracy: 0.6215 - val_loss: 1.1178\n",
      "Epoch 51/121\n",
      "\u001b[1m72/72\u001b[0m \u001b[32m━━━━━━━━━━━━━━━━━━━━\u001b[0m\u001b[37m\u001b[0m \u001b[1m13s\u001b[0m 173ms/step - accuracy: 0.5909 - loss: 1.1453 - val_accuracy: 0.5625 - val_loss: 1.1825\n",
      "Epoch 52/121\n",
      "\u001b[1m72/72\u001b[0m \u001b[32m━━━━━━━━━━━━━━━━━━━━\u001b[0m\u001b[37m\u001b[0m \u001b[1m12s\u001b[0m 163ms/step - accuracy: 0.6127 - loss: 1.0957 - val_accuracy: 0.6111 - val_loss: 1.0511\n",
      "Epoch 53/121\n",
      "\u001b[1m72/72\u001b[0m \u001b[32m━━━━━━━━━━━━━━━━━━━━\u001b[0m\u001b[37m\u001b[0m \u001b[1m6s\u001b[0m 85ms/step - accuracy: 0.5957 - loss: 1.1055 - val_accuracy: 0.6528 - val_loss: 0.9831\n",
      "Epoch 54/121\n",
      "\u001b[1m72/72\u001b[0m \u001b[32m━━━━━━━━━━━━━━━━━━━━\u001b[0m\u001b[37m\u001b[0m \u001b[1m13s\u001b[0m 184ms/step - accuracy: 0.6745 - loss: 0.9630 - val_accuracy: 0.6562 - val_loss: 0.9354\n",
      "Epoch 55/121\n",
      "\u001b[1m72/72\u001b[0m \u001b[32m━━━━━━━━━━━━━━━━━━━━\u001b[0m\u001b[37m\u001b[0m \u001b[1m13s\u001b[0m 177ms/step - accuracy: 0.6619 - loss: 0.9788 - val_accuracy: 0.6458 - val_loss: 0.9704\n",
      "Epoch 56/121\n",
      "\u001b[1m72/72\u001b[0m \u001b[32m━━━━━━━━━━━━━━━━━━━━\u001b[0m\u001b[37m\u001b[0m \u001b[1m21s\u001b[0m 173ms/step - accuracy: 0.6792 - loss: 0.9197 - val_accuracy: 0.6667 - val_loss: 0.8932\n",
      "Epoch 57/121\n",
      "\u001b[1m72/72\u001b[0m \u001b[32m━━━━━━━━━━━━━━━━━━━━\u001b[0m\u001b[37m\u001b[0m \u001b[1m12s\u001b[0m 159ms/step - accuracy: 0.6641 - loss: 0.9503 - val_accuracy: 0.6493 - val_loss: 0.9767\n",
      "Epoch 58/121\n",
      "\u001b[1m72/72\u001b[0m \u001b[32m━━━━━━━━━━━━━━━━━━━━\u001b[0m\u001b[37m\u001b[0m \u001b[1m6s\u001b[0m 82ms/step - accuracy: 0.7012 - loss: 0.8879 - val_accuracy: 0.6667 - val_loss: 0.8511\n",
      "Epoch 59/121\n",
      "\u001b[1m72/72\u001b[0m \u001b[32m━━━━━━━━━━━━━━━━━━━━\u001b[0m\u001b[37m\u001b[0m \u001b[1m11s\u001b[0m 155ms/step - accuracy: 0.6871 - loss: 0.8629 - val_accuracy: 0.7326 - val_loss: 0.7123\n",
      "Epoch 60/121\n",
      "\u001b[1m72/72\u001b[0m \u001b[32m━━━━━━━━━━━━━━━━━━━━\u001b[0m\u001b[37m\u001b[0m \u001b[1m19s\u001b[0m 136ms/step - accuracy: 0.7175 - loss: 0.8346 - val_accuracy: 0.7188 - val_loss: 0.7422\n",
      "Epoch 61/121\n",
      "\u001b[1m72/72\u001b[0m \u001b[32m━━━━━━━━━━━━━━━━━━━━\u001b[0m\u001b[37m\u001b[0m \u001b[1m13s\u001b[0m 174ms/step - accuracy: 0.7054 - loss: 0.8404 - val_accuracy: 0.7361 - val_loss: 0.7910\n",
      "Epoch 62/121\n",
      "\u001b[1m72/72\u001b[0m \u001b[32m━━━━━━━━━━━━━━━━━━━━\u001b[0m\u001b[37m\u001b[0m \u001b[1m12s\u001b[0m 164ms/step - accuracy: 0.7028 - loss: 0.8423 - val_accuracy: 0.7118 - val_loss: 0.8355\n",
      "Epoch 63/121\n",
      "\u001b[1m72/72\u001b[0m \u001b[32m━━━━━━━━━━━━━━━━━━━━\u001b[0m\u001b[37m\u001b[0m \u001b[1m13s\u001b[0m 174ms/step - accuracy: 0.7013 - loss: 0.8600 - val_accuracy: 0.7431 - val_loss: 0.7508\n",
      "Epoch 64/121\n",
      "\u001b[1m72/72\u001b[0m \u001b[32m━━━━━━━━━━━━━━━━━━━━\u001b[0m\u001b[37m\u001b[0m \u001b[1m9s\u001b[0m 121ms/step - accuracy: 0.7172 - loss: 0.8085 - val_accuracy: 0.7500 - val_loss: 0.6832\n",
      "Epoch 65/121\n",
      "\u001b[1m72/72\u001b[0m \u001b[32m━━━━━━━━━━━━━━━━━━━━\u001b[0m\u001b[37m\u001b[0m \u001b[1m7s\u001b[0m 93ms/step - accuracy: 0.7416 - loss: 0.7478 - val_accuracy: 0.7569 - val_loss: 0.6734\n",
      "Epoch 66/121\n",
      "\u001b[1m72/72\u001b[0m \u001b[32m━━━━━━━━━━━━━━━━━━━━\u001b[0m\u001b[37m\u001b[0m \u001b[1m11s\u001b[0m 157ms/step - accuracy: 0.7578 - loss: 0.7093 - val_accuracy: 0.7604 - val_loss: 0.6371\n",
      "Epoch 67/121\n",
      "\u001b[1m72/72\u001b[0m \u001b[32m━━━━━━━━━━━━━━━━━━━━\u001b[0m\u001b[37m\u001b[0m \u001b[1m6s\u001b[0m 82ms/step - accuracy: 0.7444 - loss: 0.7521 - val_accuracy: 0.7708 - val_loss: 0.6638\n",
      "Epoch 68/121\n",
      "\u001b[1m72/72\u001b[0m \u001b[32m━━━━━━━━━━━━━━━━━━━━\u001b[0m\u001b[37m\u001b[0m \u001b[1m11s\u001b[0m 154ms/step - accuracy: 0.7346 - loss: 0.7772 - val_accuracy: 0.7674 - val_loss: 0.5963\n",
      "Epoch 69/121\n",
      "\u001b[1m72/72\u001b[0m \u001b[32m━━━━━━━━━━━━━━━━━━━━\u001b[0m\u001b[37m\u001b[0m \u001b[1m22s\u001b[0m 175ms/step - accuracy: 0.7463 - loss: 0.7435 - val_accuracy: 0.7951 - val_loss: 0.5356\n",
      "Epoch 70/121\n",
      "\u001b[1m72/72\u001b[0m \u001b[32m━━━━━━━━━━━━━━━━━━━━\u001b[0m\u001b[37m\u001b[0m \u001b[1m12s\u001b[0m 166ms/step - accuracy: 0.7762 - loss: 0.6572 - val_accuracy: 0.8299 - val_loss: 0.5082\n",
      "Epoch 71/121\n",
      "\u001b[1m72/72\u001b[0m \u001b[32m━━━━━━━━━━━━━━━━━━━━\u001b[0m\u001b[37m\u001b[0m \u001b[1m12s\u001b[0m 156ms/step - accuracy: 0.7876 - loss: 0.6469 - val_accuracy: 0.7951 - val_loss: 0.5147\n",
      "Epoch 72/121\n",
      "\u001b[1m72/72\u001b[0m \u001b[32m━━━━━━━━━━━━━━━━━━━━\u001b[0m\u001b[37m\u001b[0m \u001b[1m6s\u001b[0m 85ms/step - accuracy: 0.7734 - loss: 0.6228 - val_accuracy: 0.7743 - val_loss: 0.6447\n",
      "Epoch 73/121\n",
      "\u001b[1m72/72\u001b[0m \u001b[32m━━━━━━━━━━━━━━━━━━━━\u001b[0m\u001b[37m\u001b[0m \u001b[1m12s\u001b[0m 162ms/step - accuracy: 0.7976 - loss: 0.6320 - val_accuracy: 0.8438 - val_loss: 0.4374\n",
      "Epoch 74/121\n",
      "\u001b[1m72/72\u001b[0m \u001b[32m━━━━━━━━━━━━━━━━━━━━\u001b[0m\u001b[37m\u001b[0m \u001b[1m21s\u001b[0m 169ms/step - accuracy: 0.7930 - loss: 0.6335 - val_accuracy: 0.8229 - val_loss: 0.4452\n",
      "Epoch 75/121\n",
      "\u001b[1m72/72\u001b[0m \u001b[32m━━━━━━━━━━━━━━━━━━━━\u001b[0m\u001b[37m\u001b[0m \u001b[1m13s\u001b[0m 178ms/step - accuracy: 0.7942 - loss: 0.6334 - val_accuracy: 0.8576 - val_loss: 0.4288\n",
      "Epoch 76/121\n",
      "\u001b[1m72/72\u001b[0m \u001b[32m━━━━━━━━━━━━━━━━━━━━\u001b[0m\u001b[37m\u001b[0m \u001b[1m6s\u001b[0m 88ms/step - accuracy: 0.7821 - loss: 0.6278 - val_accuracy: 0.8542 - val_loss: 0.4380\n",
      "Epoch 77/121\n",
      "\u001b[1m72/72\u001b[0m \u001b[32m━━━━━━━━━━━━━━━━━━━━\u001b[0m\u001b[37m\u001b[0m \u001b[1m12s\u001b[0m 173ms/step - accuracy: 0.8032 - loss: 0.6122 - val_accuracy: 0.7986 - val_loss: 0.6263\n",
      "Epoch 78/121\n",
      "\u001b[1m72/72\u001b[0m \u001b[32m━━━━━━━━━━━━━━━━━━━━\u001b[0m\u001b[37m\u001b[0m \u001b[1m6s\u001b[0m 89ms/step - accuracy: 0.8000 - loss: 0.5891 - val_accuracy: 0.8854 - val_loss: 0.3815\n",
      "Epoch 79/121\n",
      "\u001b[1m72/72\u001b[0m \u001b[32m━━━━━━━━━━━━━━━━━━━━\u001b[0m\u001b[37m\u001b[0m \u001b[1m11s\u001b[0m 149ms/step - accuracy: 0.8325 - loss: 0.5111 - val_accuracy: 0.8993 - val_loss: 0.3316\n",
      "Epoch 80/121\n",
      "\u001b[1m72/72\u001b[0m \u001b[32m━━━━━━━━━━━━━━━━━━━━\u001b[0m\u001b[37m\u001b[0m \u001b[1m13s\u001b[0m 183ms/step - accuracy: 0.8453 - loss: 0.5041 - val_accuracy: 0.8889 - val_loss: 0.3744\n",
      "Epoch 81/121\n",
      "\u001b[1m72/72\u001b[0m \u001b[32m━━━━━━━━━━━━━━━━━━━━\u001b[0m\u001b[37m\u001b[0m \u001b[1m19s\u001b[0m 160ms/step - accuracy: 0.8263 - loss: 0.5019 - val_accuracy: 0.9028 - val_loss: 0.3214\n",
      "Epoch 82/121\n",
      "\u001b[1m72/72\u001b[0m \u001b[32m━━━━━━━━━━━━━━━━━━━━\u001b[0m\u001b[37m\u001b[0m \u001b[1m8s\u001b[0m 111ms/step - accuracy: 0.8403 - loss: 0.4958 - val_accuracy: 0.9062 - val_loss: 0.3117\n",
      "Epoch 83/121\n",
      "\u001b[1m72/72\u001b[0m \u001b[32m━━━━━━━━━━━━━━━━━━━━\u001b[0m\u001b[37m\u001b[0m \u001b[1m12s\u001b[0m 139ms/step - accuracy: 0.8581 - loss: 0.4479 - val_accuracy: 0.8958 - val_loss: 0.3147\n",
      "Epoch 84/121\n",
      "\u001b[1m72/72\u001b[0m \u001b[32m━━━━━━━━━━━━━━━━━━━━\u001b[0m\u001b[37m\u001b[0m \u001b[1m9s\u001b[0m 116ms/step - accuracy: 0.8352 - loss: 0.5272 - val_accuracy: 0.9028 - val_loss: 0.3205\n",
      "Epoch 85/121\n",
      "\u001b[1m72/72\u001b[0m \u001b[32m━━━━━━━━━━━━━━━━━━━━\u001b[0m\u001b[37m\u001b[0m \u001b[1m8s\u001b[0m 105ms/step - accuracy: 0.8359 - loss: 0.4879 - val_accuracy: 0.8681 - val_loss: 0.4169\n",
      "Epoch 86/121\n",
      "\u001b[1m72/72\u001b[0m \u001b[32m━━━━━━━━━━━━━━━━━━━━\u001b[0m\u001b[37m\u001b[0m \u001b[1m15s\u001b[0m 172ms/step - accuracy: 0.8351 - loss: 0.5067 - val_accuracy: 0.9167 - val_loss: 0.2763\n",
      "Epoch 87/121\n",
      "\u001b[1m72/72\u001b[0m \u001b[32m━━━━━━━━━━━━━━━━━━━━\u001b[0m\u001b[37m\u001b[0m \u001b[1m8s\u001b[0m 112ms/step - accuracy: 0.8640 - loss: 0.4654 - val_accuracy: 0.9132 - val_loss: 0.2997\n",
      "Epoch 88/121\n",
      "\u001b[1m72/72\u001b[0m \u001b[32m━━━━━━━━━━━━━━━━━━━━\u001b[0m\u001b[37m\u001b[0m \u001b[1m8s\u001b[0m 114ms/step - accuracy: 0.8463 - loss: 0.4740 - val_accuracy: 0.8854 - val_loss: 0.3089\n",
      "Epoch 89/121\n",
      "\u001b[1m72/72\u001b[0m \u001b[32m━━━━━━━━━━━━━━━━━━━━\u001b[0m\u001b[37m\u001b[0m \u001b[1m13s\u001b[0m 175ms/step - accuracy: 0.8297 - loss: 0.4920 - val_accuracy: 0.9132 - val_loss: 0.2606\n",
      "Epoch 90/121\n",
      "\u001b[1m72/72\u001b[0m \u001b[32m━━━━━━━━━━━━━━━━━━━━\u001b[0m\u001b[37m\u001b[0m \u001b[1m12s\u001b[0m 166ms/step - accuracy: 0.8646 - loss: 0.4202 - val_accuracy: 0.9028 - val_loss: 0.2686\n",
      "Epoch 91/121\n",
      "\u001b[1m72/72\u001b[0m \u001b[32m━━━━━━━━━━━━━━━━━━━━\u001b[0m\u001b[37m\u001b[0m \u001b[1m11s\u001b[0m 146ms/step - accuracy: 0.8859 - loss: 0.3869 - val_accuracy: 0.9097 - val_loss: 0.2793\n",
      "Epoch 92/121\n",
      "\u001b[1m72/72\u001b[0m \u001b[32m━━━━━━━━━━━━━━━━━━━━\u001b[0m\u001b[37m\u001b[0m \u001b[1m6s\u001b[0m 83ms/step - accuracy: 0.8560 - loss: 0.4329 - val_accuracy: 0.9306 - val_loss: 0.2166\n",
      "Epoch 93/121\n",
      "\u001b[1m72/72\u001b[0m \u001b[32m━━━━━━━━━━━━━━━━━━━━\u001b[0m\u001b[37m\u001b[0m \u001b[1m12s\u001b[0m 166ms/step - accuracy: 0.8810 - loss: 0.3812 - val_accuracy: 0.9062 - val_loss: 0.2526\n",
      "Epoch 94/121\n",
      "\u001b[1m72/72\u001b[0m \u001b[32m━━━━━━━━━━━━━━━━━━━━\u001b[0m\u001b[37m\u001b[0m \u001b[1m21s\u001b[0m 174ms/step - accuracy: 0.8784 - loss: 0.3908 - val_accuracy: 0.9167 - val_loss: 0.2237\n",
      "Epoch 95/121\n",
      "\u001b[1m72/72\u001b[0m \u001b[32m━━━━━━━━━━━━━━━━━━━━\u001b[0m\u001b[37m\u001b[0m \u001b[1m12s\u001b[0m 167ms/step - accuracy: 0.8865 - loss: 0.3532 - val_accuracy: 0.9167 - val_loss: 0.1988\n",
      "Epoch 96/121\n",
      "\u001b[1m72/72\u001b[0m \u001b[32m━━━━━━━━━━━━━━━━━━━━\u001b[0m\u001b[37m\u001b[0m \u001b[1m12s\u001b[0m 157ms/step - accuracy: 0.8947 - loss: 0.3291 - val_accuracy: 0.8924 - val_loss: 0.3211\n",
      "Epoch 97/121\n",
      "\u001b[1m72/72\u001b[0m \u001b[32m━━━━━━━━━━━━━━━━━━━━\u001b[0m\u001b[37m\u001b[0m \u001b[1m6s\u001b[0m 83ms/step - accuracy: 0.8784 - loss: 0.3793 - val_accuracy: 0.8993 - val_loss: 0.2964\n",
      "Epoch 98/121\n",
      "\u001b[1m72/72\u001b[0m \u001b[32m━━━━━━━━━━━━━━━━━━━━\u001b[0m\u001b[37m\u001b[0m \u001b[1m11s\u001b[0m 152ms/step - accuracy: 0.8789 - loss: 0.4016 - val_accuracy: 0.9306 - val_loss: 0.2219\n",
      "Epoch 99/121\n",
      "\u001b[1m72/72\u001b[0m \u001b[32m━━━━━━━━━━━━━━━━━━━━\u001b[0m\u001b[37m\u001b[0m \u001b[1m22s\u001b[0m 170ms/step - accuracy: 0.8850 - loss: 0.3631 - val_accuracy: 0.9514 - val_loss: 0.1500\n",
      "Epoch 100/121\n",
      "\u001b[1m72/72\u001b[0m \u001b[32m━━━━━━━━━━━━━━━━━━━━\u001b[0m\u001b[37m\u001b[0m \u001b[1m6s\u001b[0m 83ms/step - accuracy: 0.8975 - loss: 0.3151 - val_accuracy: 0.9549 - val_loss: 0.1295\n",
      "Epoch 101/121\n",
      "\u001b[1m72/72\u001b[0m \u001b[32m━━━━━━━━━━━━━━━━━━━━\u001b[0m\u001b[37m\u001b[0m \u001b[1m12s\u001b[0m 164ms/step - accuracy: 0.9008 - loss: 0.3011 - val_accuracy: 0.9479 - val_loss: 0.1214\n",
      "Epoch 102/121\n",
      "\u001b[1m72/72\u001b[0m \u001b[32m━━━━━━━━━━━━━━━━━━━━\u001b[0m\u001b[37m\u001b[0m \u001b[1m13s\u001b[0m 178ms/step - accuracy: 0.9289 - loss: 0.2445 - val_accuracy: 0.9653 - val_loss: 0.0988\n",
      "Epoch 103/121\n",
      "\u001b[1m72/72\u001b[0m \u001b[32m━━━━━━━━━━━━━━━━━━━━\u001b[0m\u001b[37m\u001b[0m \u001b[1m7s\u001b[0m 92ms/step - accuracy: 0.9192 - loss: 0.2761 - val_accuracy: 0.9410 - val_loss: 0.1891\n",
      "Epoch 104/121\n",
      "\u001b[1m72/72\u001b[0m \u001b[32m━━━━━━━━━━━━━━━━━━━━\u001b[0m\u001b[37m\u001b[0m \u001b[1m11s\u001b[0m 154ms/step - accuracy: 0.8979 - loss: 0.3099 - val_accuracy: 0.9410 - val_loss: 0.1391\n",
      "Epoch 105/121\n",
      "\u001b[1m72/72\u001b[0m \u001b[32m━━━━━━━━━━━━━━━━━━━━\u001b[0m\u001b[37m\u001b[0m \u001b[1m13s\u001b[0m 173ms/step - accuracy: 0.8920 - loss: 0.3390 - val_accuracy: 0.9444 - val_loss: 0.1307\n",
      "Epoch 106/121\n",
      "\u001b[1m72/72\u001b[0m \u001b[32m━━━━━━━━━━━━━━━━━━━━\u001b[0m\u001b[37m\u001b[0m \u001b[1m9s\u001b[0m 116ms/step - accuracy: 0.9122 - loss: 0.3073 - val_accuracy: 0.9062 - val_loss: 0.2609\n",
      "Epoch 107/121\n",
      "\u001b[1m72/72\u001b[0m \u001b[32m━━━━━━━━━━━━━━━━━━━━\u001b[0m\u001b[37m\u001b[0m \u001b[1m8s\u001b[0m 116ms/step - accuracy: 0.9019 - loss: 0.3292 - val_accuracy: 0.9618 - val_loss: 0.1377\n",
      "Epoch 108/121\n",
      "\u001b[1m72/72\u001b[0m \u001b[32m━━━━━━━━━━━━━━━━━━━━\u001b[0m\u001b[37m\u001b[0m \u001b[1m13s\u001b[0m 176ms/step - accuracy: 0.9008 - loss: 0.3366 - val_accuracy: 0.9549 - val_loss: 0.1201\n",
      "Epoch 109/121\n",
      "\u001b[1m72/72\u001b[0m \u001b[32m━━━━━━━━━━━━━━━━━━━━\u001b[0m\u001b[37m\u001b[0m \u001b[1m20s\u001b[0m 169ms/step - accuracy: 0.9121 - loss: 0.2961 - val_accuracy: 0.9688 - val_loss: 0.0964\n",
      "Epoch 110/121\n",
      "\u001b[1m72/72\u001b[0m \u001b[32m━━━━━━━━━━━━━━━━━━━━\u001b[0m\u001b[37m\u001b[0m \u001b[1m12s\u001b[0m 166ms/step - accuracy: 0.9062 - loss: 0.3221 - val_accuracy: 0.9792 - val_loss: 0.0796\n",
      "Epoch 111/121\n",
      "\u001b[1m72/72\u001b[0m \u001b[32m━━━━━━━━━━━━━━━━━━━━\u001b[0m\u001b[37m\u001b[0m \u001b[1m12s\u001b[0m 170ms/step - accuracy: 0.9311 - loss: 0.2383 - val_accuracy: 0.9722 - val_loss: 0.0734\n",
      "Epoch 112/121\n",
      "\u001b[1m72/72\u001b[0m \u001b[32m━━━━━━━━━━━━━━━━━━━━\u001b[0m\u001b[37m\u001b[0m \u001b[1m21s\u001b[0m 173ms/step - accuracy: 0.9277 - loss: 0.2376 - val_accuracy: 0.9757 - val_loss: 0.0716\n",
      "Epoch 113/121\n",
      "\u001b[1m72/72\u001b[0m \u001b[32m━━━━━━━━━━━━━━━━━━━━\u001b[0m\u001b[37m\u001b[0m \u001b[1m13s\u001b[0m 170ms/step - accuracy: 0.9117 - loss: 0.2806 - val_accuracy: 0.9757 - val_loss: 0.0847\n",
      "Epoch 114/121\n",
      "\u001b[1m72/72\u001b[0m \u001b[32m━━━━━━━━━━━━━━━━━━━━\u001b[0m\u001b[37m\u001b[0m \u001b[1m13s\u001b[0m 171ms/step - accuracy: 0.9199 - loss: 0.2379 - val_accuracy: 0.9722 - val_loss: 0.0695\n",
      "Epoch 115/121\n",
      "\u001b[1m72/72\u001b[0m \u001b[32m━━━━━━━━━━━━━━━━━━━━\u001b[0m\u001b[37m\u001b[0m \u001b[1m19s\u001b[0m 145ms/step - accuracy: 0.9069 - loss: 0.3095 - val_accuracy: 0.9549 - val_loss: 0.1266\n",
      "Epoch 116/121\n",
      "\u001b[1m72/72\u001b[0m \u001b[32m━━━━━━━━━━━━━━━━━━━━\u001b[0m\u001b[37m\u001b[0m \u001b[1m10s\u001b[0m 135ms/step - accuracy: 0.9098 - loss: 0.2706 - val_accuracy: 0.9896 - val_loss: 0.0703\n",
      "Epoch 117/121\n",
      "\u001b[1m72/72\u001b[0m \u001b[32m━━━━━━━━━━━━━━━━━━━━\u001b[0m\u001b[37m\u001b[0m \u001b[1m6s\u001b[0m 86ms/step - accuracy: 0.9360 - loss: 0.2175 - val_accuracy: 0.9826 - val_loss: 0.0678\n",
      "Epoch 118/121\n",
      "\u001b[1m72/72\u001b[0m \u001b[32m━━━━━━━━━━━━━━━━━━━━\u001b[0m\u001b[37m\u001b[0m \u001b[1m17s\u001b[0m 177ms/step - accuracy: 0.9375 - loss: 0.2140 - val_accuracy: 0.9583 - val_loss: 0.1331\n",
      "Epoch 119/121\n",
      "\u001b[1m72/72\u001b[0m \u001b[32m━━━━━━━━━━━━━━━━━━━━\u001b[0m\u001b[37m\u001b[0m \u001b[1m12s\u001b[0m 163ms/step - accuracy: 0.9381 - loss: 0.2231 - val_accuracy: 0.9861 - val_loss: 0.0471\n",
      "Epoch 120/121\n",
      "\u001b[1m72/72\u001b[0m \u001b[32m━━━━━━━━━━━━━━━━━━━━\u001b[0m\u001b[37m\u001b[0m \u001b[1m18s\u001b[0m 127ms/step - accuracy: 0.9060 - loss: 0.2945 - val_accuracy: 0.9549 - val_loss: 0.1449\n",
      "Epoch 121/121\n",
      "\u001b[1m72/72\u001b[0m \u001b[32m━━━━━━━━━━━━━━━━━━━━\u001b[0m\u001b[37m\u001b[0m \u001b[1m10s\u001b[0m 131ms/step - accuracy: 0.9152 - loss: 0.3067 - val_accuracy: 0.9861 - val_loss: 0.0540\n"
     ]
    }
   ],
   "source": [
    "LSTM_model_history = LSTM_model.fit(np.expand_dims(ravdess_speech_data_array[:training_samples],-1), \n",
    "                                    labels_categorical[:training_samples], \n",
    "                                    validation_data=(np.expand_dims(ravdess_speech_data_array[training_samples:training_samples+validation_samples], -1), \n",
    "                                                                                            labels_categorical[training_samples:training_samples+validation_samples]), epochs=121, shuffle=True)"
   ]
  },
  {
   "cell_type": "markdown",
   "id": "ba49b50a-536e-4b22-be20-ed6be764bddf",
   "metadata": {},
   "source": [
    "In my Real-Time Speech Emotion Recognition project, I am training my LSTM model using the `fit` method. Here's a breakdown of what each part of the code does:\n",
    "\n",
    "- `np.expand_dims(ravdess_speech_data_array[:training_samples], -1)`: I am expanding the dimensions of the training data to make it compatible with the LSTM model, which expects a 3D input shape. The `-1` argument adds an extra dimension at the end.\n",
    "\n",
    "- `labels_categorical[:training_samples]`: These are the corresponding categorical emotion labels for the training data.\n",
    "\n",
    "- `validation_data=(np.expand_dims(ravdess_speech_data_array[training_samples:training_samples+validation_samples], -1), labels_categorical[training_samples:training_samples+validation_samples])`: Similar to the training data, I prepare the validation data with its corresponding labels.\n",
    "\n",
    "- `epochs=121`: I have chosen to train the model for 121 epochs. Adjust this value based on your specific training requirements.\n",
    "\n",
    "- `shuffle=True`: I shuffle the training data during each epoch to introduce randomness and prevent the model from memorizing the order of the data.\n",
    "\n",
    "The training history (`LSTM_model_history`) is stored, containing information about the training and validation metrics for each epoch. This information is useful for evaluating the model's performance and making decisions about further training or adjustments."
   ]
  },
  {
   "cell_type": "markdown",
   "id": "3873ae0d-37a9-4300-8d4c-cf86daaa57f2",
   "metadata": {},
   "source": [
    "## Visualizing the Training Loss and Accuracy"
   ]
  },
  {
   "cell_type": "code",
   "execution_count": 38,
   "id": "c054ba71-60c3-4a68-b364-0bdd4cf0086d",
   "metadata": {},
   "outputs": [],
   "source": [
    "def plot_metric(model_training_history, metric_name_1, metric_name_2, plot_name):\n",
    "    '''\n",
    "    This function is designed to create a graph displaying the provided metrics.\n",
    "    Parameters:\n",
    "        model_training_history: A history object containing recorded training and validation \n",
    "                                loss values and metric values across consecutive epochs.\n",
    "        metric_name_1:          The name of the first metric to be visualized in the graph.\n",
    "        metric_name_2:          The name of the second metric to be visualized in the graph.\n",
    "        plot_name:              The title of the graph.\n",
    "    '''\n",
    "    # Extract metric values from the training history.\n",
    "    metric_value_1 = model_training_history.history[metric_name_1]\n",
    "    metric_value_2 = model_training_history.history[metric_name_2]\n",
    "    \n",
    "    # Generate a range of epochs for x-axis.\n",
    "    epochs = range(len(metric_value_1))\n",
    "    \n",
    "    # Plot the first metric in blue.\n",
    "    plt.plot(epochs, metric_value_1, 'blue', label=metric_name_1)\n",
    "    \n",
    "    # Plot the second metric in red.\n",
    "    plt.plot(epochs, metric_value_2, 'red', label=metric_name_2)\n",
    "    \n",
    "    # Set the title of the graph.\n",
    "    plt.title(str(plot_name))\n",
    "    \n",
    "    # Add a legend to the graph.\n",
    "    plt.legend()"
   ]
  },
  {
   "cell_type": "code",
   "execution_count": 39,
   "id": "09d4f34b-4421-4e9a-94a8-d588a13284ca",
   "metadata": {},
   "outputs": [
    {
     "data": {
      "image/png": "[encoded data removed]",
      "text/plain": [
       "<Figure size 640x480 with 1 Axes>"
      ]
     },
     "metadata": {},
     "output_type": "display_data"
    }
   ],
   "source": [
    "# Plot the training and validation loss metrics for visualization.\n",
    "plot_metric(LSTM_model_history, 'loss', 'val_loss', 'Total Loss vs Total Validation Loss')"
   ]
  },
  {
   "cell_type": "code",
   "execution_count": 40,
   "id": "d90d1d00-5b57-481c-b4ba-4d0d4e8963b2",
   "metadata": {},
   "outputs": [
    {
     "data": {
      "image/png": "[encoded data removed]",
      "text/plain": [
       "<Figure size 640x480 with 1 Axes>"
      ]
     },
     "metadata": {},
     "output_type": "display_data"
    }
   ],
   "source": [
    "# Plot the training and validation loss metrics for visualization.\n",
    "plot_metric(LSTM_model_history, 'accuracy', 'val_accuracy', 'Total Accuracy vs Total Validation Accuracy')"
   ]
  },
  {
   "cell_type": "markdown",
   "id": "253124c8-2e0d-486f-9de9-35bfe6a3f465",
   "metadata": {},
   "source": [
    "## Assesing the Trained LSTM Model"
   ]
  },
  {
   "cell_type": "code",
   "execution_count": 41,
   "id": "9304a7ca-0a1e-4b8f-9c9c-c5592c2daed6",
   "metadata": {},
   "outputs": [
    {
     "name": "stdout",
     "output_type": "stream",
     "text": [
      "\u001b[1m9/9\u001b[0m \u001b[32m━━━━━━━━━━━━━━━━━━━━\u001b[0m\u001b[37m\u001b[0m \u001b[1m0s\u001b[0m 22ms/step - accuracy: 0.9455 - loss: 0.1455\n"
     ]
    }
   ],
   "source": [
    "model_evaluation_history = LSTM_model.evaluate(np.expand_dims(ravdess_speech_data_array[training_samples + validation_samples:], -1), \n",
    "                                               labels_categorical[training_samples + validation_samples:])"
   ]
  },
  {
   "cell_type": "markdown",
   "id": "80ae5106-7eaa-476a-b726-397736dfa69f",
   "metadata": {},
   "source": [
    "After training my LSTM model, I'm evaluating its performance on a separate set of data using the `evaluate` method. Let me explain this part of the code:\n",
    "\n",
    "- `np.expand_dims(ravdess_speech_data_array[training_samples + validation_samples:], -1)`: I'm expanding the dimensions of the evaluation data similarly to how I did during training. This ensures compatibility with the LSTM model, which expects 3D input.\n",
    "\n",
    "- `labels_categorical[training_samples + validation_samples:]`: These are the corresponding categorical emotion labels for the evaluation data.\n",
    "\n",
    "(`9/9 [==============================] - 1s 21ms/step - loss: 0.0434 - accuracy: 0.9861`) is the result of the evaluation:\n",
    "\n",
    "- `9/9`: It indicates that the evaluation was performed on 9 batches.\n",
    "\n",
    "- `[==============================]`: This visual representation shows the progress of evaluating the batches.\n",
    "\n",
    "- `- 1s 21ms/step`: It took approximately 1 second to evaluate each step, with each step corresponding to one batch.\n",
    "\n",
    "- `loss: 0.0434`: The calculated loss on the evaluation data is 0.0434. This metric indicates how well the model is performing, with lower values being better.\n",
    "\n",
    "- `accuracy: 0.9861`: The accuracy of the model on the evaluation data is 98.61%. This represents the proportion of correctly classified instances, a key metric for assessing the model's performance."
   ]
  },
  {
   "cell_type": "markdown",
   "id": "aa8f099e-49c9-42e9-a306-d693cdb052a5",
   "metadata": {},
   "source": [
    "## Saving the LSTM Model"
   ]
  },
  {
   "cell_type": "code",
   "execution_count": 42,
   "id": "cabe7ae8-05c8-436c-9466-9445ff04a54f",
   "metadata": {},
   "outputs": [
    {
     "name": "stderr",
     "output_type": "stream",
     "text": [
      "WARNING:absl:You are saving your model as an HDF5 file via `model.save()` or `keras.saving.save_model(model)`. This file format is considered legacy. We recommend using instead the native Keras format, e.g. `model.save('my_model.keras')` or `keras.saving.save_model(model, 'my_model.keras')`. \n"
     ]
    }
   ],
   "source": [
    "import datetime as dt\n",
    "\n",
    "# Retrieve loss and accuracy from the model evaluation history.\n",
    "model_evaluation_loss, model_evaluation_accuracy = model_evaluation_history\n",
    "\n",
    "# Define the date and time format.\n",
    "date_time_format = '%Y_%m_%d_%H_%M_%S'\n",
    "\n",
    "# Obtain the current date and time.\n",
    "current_date_time_dt = dt.datetime.now()\n",
    "\n",
    "# Convert the date and time to a string with the specified format.\n",
    "current_date_time_string = dt.datetime.strftime(current_date_time_dt, date_time_format)\n",
    "\n",
    "# Construct a unique file name based on date, time, loss, and accuracy.\n",
    "model_file_name = f'LSTM_model_Date_Time_{current_date_time_string}___Loss_{model_evaluation_loss}___Accuracy_{model_evaluation_accuracy}.h5'\n",
    "\n",
    "# Save the ConvLSTM model with the generated file name.\n",
    "LSTM_model.save(model_file_name)"
   ]
  },
  {
   "cell_type": "markdown",
   "id": "7e3f71a7-82b1-468e-9ceb-75c3bf25716b",
   "metadata": {},
   "source": [
    "After evaluating my LSTM model, I am saving it with a unique file name that includes the current date, time, loss, and accuracy. Let me break down the code:\n",
    "\n",
    "I extract the loss and accuracy values obtained from the model evaluation history, which were calculated during the evaluation step.\n",
    "\n",
    "I define the format in which I want to represent the date and time. In this case, it's a format that includes the year, month, day, hour, minute, and second.\n",
    "\n",
    "I get the current date and time using the `datetime.now()` function from the `datetime` module.\n",
    "\n",
    "I convert the obtained date and time into a string using the specified format.\n",
    "\n",
    "I create a unique file name for the saved model by incorporating the current date, time, evaluation loss, and evaluation accuracy into the string. This ensures that each saved model has a distinct identifier.\n",
    "\n",
    "Finally, I save the trained LSTM model using the generated unique file name. This step is essential for keeping track of model versions and understanding the performance of each model based on its evaluation results."
   ]
  },
  {
   "cell_type": "markdown",
   "id": "bc1797c7-d247-440b-a396-73254c231d7a",
   "metadata": {},
   "source": [
    "## Streamlit User-Friendly Version\n",
    "I have also developed a Streamlit one-click version of the Speech Emotion Recognition model, making it incredibly user-friendly. With this version, users can effortlessly recognize emotions in a speech by simply clicking a single button to upload an audio.\n",
    "\n",
    "To explore the Streamlit version, click this button below:\n",
    " \n",
    "[Speech Emotion Recognition](https://speech-emotion-recognition.streamlit.app/)"
   ]
  },
  {
   "cell_type": "markdown",
   "id": "462e980e",
   "metadata": {},
   "source": []
  }
 ],
 "metadata": {
  "kernelspec": {
   "display_name": "Python 3",
   "language": "python",
   "name": "python3"
  },
  "language_info": {
   "codemirror_mode": {
    "name": "ipython",
    "version": 3
   },
   "file_extension": ".py",
   "mimetype": "text/x-python",
   "name": "python",
   "nbconvert_exporter": "python",
   "pygments_lexer": "ipython3",
   "version": "3.12.9"
  }
 },
 "nbformat": 4,
 "nbformat_minor": 5
}
